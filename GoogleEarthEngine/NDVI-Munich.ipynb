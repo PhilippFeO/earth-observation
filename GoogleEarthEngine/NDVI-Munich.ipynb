{
 "cells": [
  {
   "cell_type": "markdown",
   "id": "smart-bracket",
   "metadata": {
    "slideshow": {
     "slide_type": "slide"
    }
   },
   "source": [
    "# Asses vegetation in the city of Munich (work in progress)\n",
    "\n",
    "Inspired by: https://www.youtube.com/watch?v=gi4UdFsayoM\n",
    "\n",
    ">\"...the time is now right and urgent to apply space technology towards the solution of many pressing natural resources problems being compounded by population and industrial growth.\"\n",
    "\n",
    "- [Stewart Udall, Secretary of the Interior, September 21, 1966](https://prd-wret.s3-us-west-2.amazonaws.com/assets/palladium/production/s3fs-public/atoms/files/1966.09.21-DOI-Udall-Earth%20Resources%20Studied%20From%20Space.pdf)"
   ]
  },
  {
   "cell_type": "markdown",
   "id": "modified-delay",
   "metadata": {
    "slideshow": {
     "slide_type": "slide"
    }
   },
   "source": [
    "## Landsat\n",
    "\n",
    "Landsat is the first \"civilian Earth observation satellite\" launched in 1972, a collaboration between the Department of the Interior, NASA, and the Department of Agriculture.\n",
    "\n",
    "At over 40 years, the Landsat series of satellites provides the longest temporal record of moderate resolution multispectral data of the Earth’s surface on a global basis. The Landsat record has remained remarkably unbroken, proving a unique resource to assist a broad range of specialists in managing the world’s food, water, forests, and other natural resources for a growing world population. It is a record unmatched in quality, detail, coverage, and value. Source: USGS\n",
    "\n",
    "- [NASA's Landsat page](https://www.nasa.gov/mission_pages/landsat/overview/index.html)\n",
    "- [USGS's Landsat page](https://www.usgs.gov/core-science-systems/nli/landsat)"
   ]
  },
  {
   "cell_type": "markdown",
   "id": "particular-particular",
   "metadata": {
    "slideshow": {
     "slide_type": "slide"
    }
   },
   "source": [
    "## How to access landsat data\n",
    "\n",
    "- [USGS Earth Explorer](https://earthexplorer.usgs.gov/)\n",
    "- [Amazon AWS Open Data](https://registry.opendata.aws/landsat-8/)\n",
    "- [Google Earth Engine](https://developers.google.com/earth-engine/datasets/catalog/landsat-8)"
   ]
  },
  {
   "cell_type": "markdown",
   "id": "advised-victoria",
   "metadata": {
    "slideshow": {
     "slide_type": "slide"
    }
   },
   "source": [
    "### The Workflow\n",
    "\n",
    "In this lab, we will do the following:\n",
    "\n",
    "- Use Google Earth Engine's Python API\n",
    "- define an AOI (area of interest)\n",
    "- import multiple Landsat images in summer (for highest vegetation)\n",
    "- determine which images are best for analysis\n",
    "- create various NDVI map outputs to assess the vegetation"
   ]
  },
  {
   "cell_type": "markdown",
   "id": "48fbfb00-d418-463f-bed3-055732373b23",
   "metadata": {
    "slideshow": {
     "slide_type": "slide"
    }
   },
   "source": [
    "## Python libraries in this workshop\n",
    "\n",
    "- [pandas](https://pandas.pydata.org/docs/getting_started/index.html)\n",
    "- [geopandas](https://geopandas.org/en/stable/gallery/index.html)\n",
    "- [google earth engine](https://developers.google.com/earth-engine/tutorials/community/intro-to-python-api-guiattard)\n"
   ]
  },
  {
   "cell_type": "markdown",
   "id": "retired-flash",
   "metadata": {
    "slideshow": {
     "slide_type": "slide"
    }
   },
   "source": [
    "## Import libraries"
   ]
  },
  {
   "cell_type": "code",
   "execution_count": 1,
   "id": "racial-likelihood",
   "metadata": {
    "slideshow": {
     "slide_type": "-"
    }
   },
   "outputs": [],
   "source": [
    "# the regulars\n",
    "import pandas as pd\n",
    "import geopandas as gpd\n",
    "\n",
    "# earth engine\n",
    "import ee\n",
    "\n",
    "# allow images to display in the notebook\n",
    "from IPython.display import Image"
   ]
  },
  {
   "cell_type": "markdown",
   "id": "otherwise-figure",
   "metadata": {
    "slideshow": {
     "slide_type": "slide"
    }
   },
   "source": [
    "## Authenticate Earth Engine"
   ]
  },
  {
   "cell_type": "code",
   "execution_count": 2,
   "id": "existing-generic",
   "metadata": {
    "slideshow": {
     "slide_type": "-"
    }
   },
   "outputs": [
    {
     "name": "stdout",
     "output_type": "stream",
     "text": [
      "USGS Landsat 8 Level 2, Collection 2, Tier 1\n"
     ]
    }
   ],
   "source": [
    "# Trigger the authentication flow.\n",
    "# ee.Authenticate()\n",
    "\n",
    "# Initialize the library.\n",
    "ee.Initialize()\n",
    "\n",
    "# Check setup (should print \"USGS Landsat 8 Level 2, Collection 2, Tier 1\")\n",
    "print(ee.ImageCollection(\"LANDSAT/LC08/C02/T1_L2\").get(\"title\").getInfo())"
   ]
  },
  {
   "cell_type": "markdown",
   "id": "returning-bracket",
   "metadata": {
    "slideshow": {
     "slide_type": "slide"
    }
   },
   "source": [
    "For this lab, we will use Google Earth Engine's \"USGS Landsat 8 Level 2, Collection 2, Tier 1\"\n",
    "\n",
    "- [EE Landsat 8](https://developers.google.com/earth-engine/datasets/catalog/LANDSAT_LC08_C02_T1_L2)\n",
    "\n",
    "You can also:\n",
    "\n",
    "- `.filterBounds()` method allows you to filter by location\n",
    "- `.filterDate()` allows you to filter by date"
   ]
  },
  {
   "cell_type": "markdown",
   "id": "seventh-theme",
   "metadata": {
    "slideshow": {
     "slide_type": "slide"
    }
   },
   "source": [
    "## Define filters"
   ]
  },
  {
   "cell_type": "code",
   "execution_count": 76,
   "id": "legitimate-phrase",
   "metadata": {
    "slideshow": {
     "slide_type": "-"
    }
   },
   "outputs": [],
   "source": [
    "# coordinates of München\n",
    "lat = 48.13  #39.444012\n",
    "lon = 11.56  #-121.833619\n",
    "\n",
    "# point of interest as an ee.Geometry\n",
    "poi = ee.Geometry.Point(lon,lat)\n",
    "sb1 = [11.550510928753445, 48.14317046659895, 11.548483995100966, 48.14362920069638, 11.548425207444321, 48.143508757625455, 11.548538746909973, 48.14342179836262, 11.54857563229527, 48.143385253685224, 11.548617804710055, 48.14334351325487, 11.548534475022251, 48.14284241658684, 11.54856398535273, 48.142817614078396, 11.548555711389987, 48.14276622692296, 11.548500661695646, 48.142426491566866, 11.548466015460622, 48.142211884901805, 11.548450588128363, 48.14211676993932, 11.548440381592137, 48.14211753356593, 11.54843390183638, 48.142077312613054, 11.548421829234211, 48.14200367505895, 11.548417713923211, 48.14197818524611, 11.548231027671909, 48.14084644704717, 11.548242143846183, 48.140844755366174, 11.548229086611222, 48.14078455824207, 11.548223287796656, 48.14078107241928, 11.548193815162467, 48.14076337228245, 11.54814219270692, 48.14044672762327, 11.548134261297623, 48.140417197800865, 11.548124155224944, 48.14039044709342, 11.548110013736029, 48.140364490444924, 11.548092109994203, 48.14033879001628, 11.548067627592854, 48.140312884604306, 11.54806560830459, 48.140313236228955, 11.547829403655868, 48.140130489252414, 11.54776480751931, 48.1400802316544, 11.54755282489168, 48.13991565264225, 11.547478504464243, 48.13985736035578, 11.54732463319864, 48.13973517974746, 11.547193807550961, 48.13960759929762, 11.547166119990504, 48.13957898351086, 11.547170298639161, 48.139577200134106, 11.547139297437143, 48.13954353530052, 11.547134995475423, 48.139543968121586, 11.547009665027938, 48.13940723347788, 11.546967081220918, 48.1393930414216, 11.54698289509054, 48.13926754480837, 11.547329162743438, 48.139211018969064, 11.548608776098444, 48.13901447825759, 11.549790264156758, 48.13885357385316, 11.549748304436793, 48.13768035915724, 11.549726766804717, 48.13713703340019, 11.549480187161963, 48.1365703954018, 11.548416510339791, 48.13575927851087, 11.548282706060325, 48.135699223797396, 11.548159468581346, 48.135629954563484, 11.548043134087697, 48.13555511980331, 11.547936526816637, 48.13547431226684, 11.547837711608036, 48.13538903617207, 11.547750093237152, 48.13529839270523, 11.547653857867754, 48.13517981724322, 11.547571952541956, 48.13505671102907, 11.547506075009755, 48.134929265885596, 11.547433148844508, 48.13475603535432, 11.547368829087533, 48.134581398279934, 11.547344118371038, 48.134499594471535, 11.547315540714603, 48.13440500396434, 11.547284892005047, 48.13428355823932, 11.547272351408356, 48.13422702876288, 11.547217959918404, 48.133959697784675, 11.547188081631555, 48.13378088297139, 11.547169834124402, 48.13360205496244, 11.547163484386804, 48.133422173978595, 11.547161793650627, 48.133242212165285, 11.547155349390263, 48.133119058988754, 11.5471388234093, 48.13302734774155, 11.547102765397641, 48.132895191985156, 11.547046794893665, 48.13276547442829, 11.546976021773187, 48.132639022017116, 11.546885992786745, 48.132518194654104, 11.546782083153074, 48.13240279932627, 11.546662798951973, 48.132294235907146, 11.546530964623681, 48.13219245702528, 11.546433129440565, 48.13210665140681, 11.546351636292018, 48.13201377454769, 11.546288064816371, 48.1319147569427, 11.546240396935316, 48.13180833955686, 11.546230120983637, 48.131786873320046, 11.546193443538131, 48.13165261648419, 11.546187356939386, 48.131565169940885, 11.546228002739035, 48.13138506497457, 11.546294447342008, 48.13121202551167, 11.546366043605008, 48.131038281528845, 11.546391014414299, 48.130965653507864, 11.546397878194458, 48.13093347225983, 11.546439054382388, 48.130800844785064, 11.546618950711249, 48.13048599082973, 11.546358820015302, 48.13034135478761, 11.545569522244444, 48.12948186139586, 11.545505400600293, 48.12938007337089, 11.545466100929733, 48.12930023636985, 11.545333975781444, 48.1290455577834, 11.545290421693611, 48.12894177969134, 11.545260171454487, 48.12883580370179, 11.545114556207364, 48.128147077668714, 11.545066040316293, 48.12792045789836, 11.5450475818598, 48.127835213660816, 11.544997684607742, 48.127657386134125, 11.544994541467718, 48.127648289571745, 11.544981563445818, 48.12761172154905, 11.544828885908249, 48.12718260285471, 11.544803842617847, 48.127112260202246, 11.544768340962618, 48.12702325177207, 11.544726231225024, 48.126937457137274, 11.544671903185034, 48.1268534277454, 11.544610309211022, 48.12677110245027, 11.54459995823616, 48.12675694675421, 11.544606855111471, 48.12675375444992, 11.544592760201276, 48.12673775883744, 11.544586147717316, 48.126739091263204, 11.544554116776057, 48.126700846074634, 11.544527518292936, 48.12667089360741, 11.544503570328757, 48.12664526711478, 11.544482943753506, 48.126624270263584, 11.544465958817366, 48.12660709514364, 11.54444410394253, 48.126585284188465, 11.544420949247435, 48.1265626535177, 11.544397675824174, 48.126540584244985, 11.544377801985865, 48.12652230697545, 11.544353331481691, 48.126500354191776, 11.54433205039791, 48.12648161230143, 11.544310266820933, 48.12646276456509, 11.544292190627061, 48.12644716573909, 11.54427096258188, 48.12642925137348, 11.544250792008324, 48.126412664171205, 11.544225666845637, 48.12639271890751, 11.544197827907734, 48.12637094598219, 11.544211300733426, 48.12631319654849, 11.54430195388717, 48.126241260882345, 11.544365739164531, 48.1262301031129, 11.544459072680963, 48.12620503674009, 11.544443533309652, 48.12612285631055, 11.544715899690452, 48.12610177760644, 11.54488138304305, 48.1261013665508, 11.545393793337468, 48.125879064863554, 11.545490146788303, 48.125871608089824, 11.545494321303751, 48.12588574492888, 11.54557312687761, 48.12584635995451, 11.545662427456602, 48.12580175655139, 11.545747034904908, 48.125759711740244, 11.54581719087621, 48.12572661712143, 11.547217201953144, 48.12505250325346, 11.54849647307316, 48.12444144997436, 11.548506626007745, 48.12444814501849, 11.548663186739153, 48.12437393899687, 11.548820282094079, 48.12429837929985, 11.548837277443955, 48.12429053204346, 11.548899573955461, 48.12426424682119, 11.54903198894966, 48.124200637648535, 11.549139236494229, 48.12431404577336, 11.549854953811622, 48.12396963881548, 11.550260154539021, 48.12377156114771, 11.55074195452618, 48.123519967976954, 11.552560044522961, 48.122611048753996, 11.55405680295005, 48.121891048376476, 11.55424623354774, 48.1218019867926, 11.55497147850622, 48.12146108595731, 11.55646791449237, 48.120741528782396, 11.557053109008304, 48.12046007980681, 11.55829692557348, 48.11985433285048, 11.559356225459748, 48.11935499372411, 11.559410742743703, 48.119327772927136, 11.559480620123809, 48.11929428824274, 11.559565540066018, 48.119253613629716, 11.559630665547049, 48.119222291687656, 11.559653724015845, 48.11921131765943, 11.559655688851542, 48.11921318683813, 11.559923942136365, 48.11908589568238, 11.559926936123965, 48.119084571033746, 11.559905254788637, 48.11904585373491, 11.560712446884374, 48.11867247042525, 11.560772861444459, 48.11864475217003, 11.560838630935928, 48.11863411140433, 11.560845088230534, 48.11863287597287, 11.560851805334764, 48.11863281168254, 11.560858379021747, 48.11863391672646, 11.560864135859372, 48.11863618722455, 11.560868811159654, 48.118639353740846, 11.560872136914407, 48.118643323273574, 11.560987839997056, 48.11858825460567, 11.561352821538565, 48.11841429650129, 11.561396473570866, 48.11839342308065, 11.561385944505904, 48.11838384920924, 11.561385312654718, 48.11837916995915, 11.56138669459957, 48.11837458796596, 11.561389685806166, 48.118370372292766, 11.561394417043779, 48.11836688264125, 11.561400215860322, 48.11836429687136, 11.561408275944915, 48.11836405503068, 11.561416191272261, 48.118365252493895, 11.561423288913407, 48.118367706313364, 11.561429166985858, 48.11837141465446, 11.561433561209922, 48.11837592721429, 11.561699859625381, 48.11824916763961, 11.561720696531003, 48.11823925861221, 11.561957682035583, 48.11812436281249, 11.561949027542274, 48.11811551920263, 11.561947451236744, 48.1181114665863, 11.561947620444464, 48.11810733184322, 11.561949535965043, 48.11810329311539, 11.561953056662789, 48.11809988983009, 11.561958048974613, 48.11809730042695, 11.561963835574462, 48.11809579375752, 11.561970015879501, 48.11809536706, 11.561976185316865, 48.1180962885007, 11.56198167328836, 48.118098286903084, 11.561992879164233, 48.11810695932262, 11.562514443365322, 48.11785591996849, 11.562575460751018, 48.117910725700376, 11.562650007254307, 48.11797768002305, 11.562659366463745, 48.117983022941864, 11.562666623799375, 48.11798242100922, 11.562669288458935, 48.11798503934945, 11.562739733907241, 48.11797757471367, 11.562748266868581, 48.11798543209923, 11.563022138098663, 48.118237234096306, 11.563624027263506, 48.11880742185144, 11.564090140923653, 48.11924397566255, 11.564200259453703, 48.11933451752841, 11.564443580201111, 48.11953281243247, 11.564542864653975, 48.11960969850961, 11.564688337028919, 48.119709448130784, 11.56482739816722, 48.11980333459575, 11.564976098676173, 48.119894919889205, 11.565037036875028, 48.11993103730014, 11.565288002670506, 48.12006919090359, 11.56597636445997, 48.120446265833145, 11.566444782069961, 48.12070204249893, 11.566724288136395, 48.12085130297788, 11.567454230799207, 48.121240708243455, 11.567862782956933, 48.12146023736169, 11.5680312916748, 48.12155093314712, 11.568194833937387, 48.1216356184202, 11.568336414214507, 48.12169353162278, 11.568393178259914, 48.121716678248305, 11.56854961131064, 48.121798240437585, 11.568699489644043, 48.121876385815305, 11.568761956183131, 48.121908907480154, 11.568765338239825, 48.12190604246689, 11.568775905303225, 48.121911567527896, 11.568772523291623, 48.121914433440246, 11.568839400440236, 48.121949700675266, 11.568904269491316, 48.12198390873536, 11.568907649272266, 48.12198113284873, 11.56891821238385, 48.12198665888489, 11.568914832603133, 48.12198943477182, 11.568945980666859, 48.12200609966532, 11.569040220829502, 48.12205644990689, 11.56910249144756, 48.122089722601416, 11.569277968827624, 48.12218344146972, 11.569326869297837, 48.12221582270292, 11.56948678204928, 48.12232218697031, 11.569596012498566, 48.12237952664378, 11.569730981639688, 48.12245022639599, 11.569861661536367, 48.12251863930023, 11.571050603501659, 48.12314131679705, 11.572209525411262, 48.123768693553664, 11.572355326258938, 48.123839642542144, 11.572506220091283, 48.12392714151729, 11.572546477870938, 48.12394904157181, 11.572791467419203, 48.12408894674736, 11.57301215787655, 48.12420487809212, 11.573807950529703, 48.124621959163235, 11.57383898561047, 48.12463853078921, 11.574629814762023, 48.125056033251965, 11.574657101780401, 48.12507007296599, 11.57521766498559, 48.12536708980883, 11.57524949782597, 48.12538430361957, 11.575281198053933, 48.125401337736136, 11.575313701617608, 48.125418095589396, 11.575345394166787, 48.125435029083214, 11.576461253502416, 48.126025467047306, 11.577239675939273, 48.126439200645, 11.577419208182969, 48.12653760666636, 11.577605808427778, 48.1266416871716, 11.57761048414566, 48.126650785363665, 11.577602847235877, 48.12665893975522, 11.57761259596371, 48.12667935332156, 11.577602381277293, 48.126699667837514, 11.577612806999651, 48.12670608876001, 11.5777137459351, 48.126768471134945, 11.577817544492715, 48.12683153787104, 11.577828766397143, 48.12683850507724, 11.577821333529203, 48.12684405089036, 11.577828016812171, 48.126847852798576, 11.577846593332934, 48.1268587157187, 11.57784779007337, 48.1268600691475, 11.57801365083424, 48.126961691936465, 11.578178968913864, 48.127049620957195, 11.578324371200234, 48.12712221258083, 11.57843586315371, 48.12717441376401, 11.578570676898547, 48.12723281633546, 11.578631305793177, 48.12725984016126, 11.578698767372515, 48.127286883310184, 11.578759402931668, 48.12731111304855, 11.578841191032412, 48.12734342398962, 11.578885942162213, 48.127360096597656, 11.578892870762248, 48.12736267551029, 11.57895675467147, 48.127387005868826, 11.579022001769133, 48.12740981281841, 11.57916257102675, 48.12745591120287, 11.579414391711243, 48.12753649354746, 11.579647708095987, 48.127608885290094, 11.579978231027857, 48.127710995368815, 11.58016942634871, 48.127776428391485, 11.580289282611293, 48.127823261548414, 11.580355285228146, 48.12785229626327, 11.580488072774688, 48.12791360706906, 11.580498234695803, 48.12790357276573, 11.580592140779293, 48.12795276304011, 11.58058128079547, 48.127966755047986, 11.580629026294481, 48.127991204134425, 11.580634776679911, 48.12799419182908, 11.580731731988019, 48.12804489622137, 11.580804971295168, 48.12808320334871, 11.580830604844405, 48.12809660750773, 11.580836090026096, 48.12809950577306, 11.580856708318855, 48.12810839316376, 11.580878276151713, 48.12811611377189, 11.580887924173195, 48.128119206427634, 11.58089240751555, 48.12811292587505, 11.580946312143022, 48.12812534740695, 11.580983741964756, 48.12813150492566, 11.58103114329423, 48.1281338301647, 11.58120166410795, 48.128128325355036, 11.58126724088243, 48.12812622713202, 11.582192276580281, 48.128096301064076, 11.58229439613153, 48.128093527351986, 11.582395008794569, 48.12809407169044, 11.58249412658035, 48.12809686035513, 11.582594166004716, 48.12810242748038, 11.58269444588878, 48.12811150102086, 11.582792814630087, 48.12812389721234, 11.582892385413507, 48.128137748254204, 11.582990192026283, 48.128154287888385, 11.583085832087797, 48.12817342529145, 11.583181154698675, 48.12819643978378, 11.583274577918454, 48.128221161543, 11.5833667754631, 48.12824821337668, 11.583456958760486, 48.12827856681069, 11.583545106065326, 48.12831152049687, 11.58362987652482, 48.1283459060718, 11.583712840940825, 48.12838345630913, 11.583794043454024, 48.12842306886765, 11.583872409018664, 48.128464560082996, 11.583949973467302, 48.128508457330824, 11.584024049789427, 48.12855422000083, 11.584094747451768, 48.1286018600336, 11.584162861559136, 48.12865192821804, 11.584226773192443, 48.12870414335572, 11.584254211493384, 48.12872806527086, 11.584287585010838, 48.128757150742594, 11.585068802274913, 48.12945874612228, 11.585078802993852, 48.12946759369181, 11.585104044080152, 48.12949118514342, 11.585143053577104, 48.129527642427796, 11.585149586306063, 48.12953375438133, 11.585163316558601, 48.12954658328458, 11.585404466183478, 48.12976206001598, 11.585527493315892, 48.12986923505235, 11.585651292240541, 48.12997570963643, 11.58577642600599, 48.1300811066717, 11.585903575743359, 48.1301864095938, 11.586031035666544, 48.130290946862466, 11.586159888848814, 48.13039423159372, 11.58629031520931, 48.13049797204604, 11.586422070137074, 48.13060000161146, 11.586555096269041, 48.13070065000334, 11.586689608758366, 48.13080211237651, 11.586772928641327, 48.13086364730788, 11.586785074775877, 48.13085649390194, 11.586858923004943, 48.130909900969414, 11.586845553912507, 48.13091885002919, 11.587082638434278, 48.13109462576561, 11.587158470623445, 48.13115649733771, 11.587202340496676, 48.131198194639595, 11.587237374062754, 48.131235183476, 11.587270258514941, 48.131271719526005, 11.587272004372398, 48.131271636108366, 11.58728557316239, 48.13128805138933, 11.587315332726575, 48.13133033913955, 11.587342814973864, 48.13137307319384, 11.587368143819223, 48.13141633894251, 11.58735899822446, 48.131417833475304, 11.587369040007433, 48.13143999602293, 11.587424512584343, 48.131567625256956, 11.586530121451856, 48.131741565346715, 11.585724348717346, 48.13196331260453, 11.585258085210496, 48.132184905406106, 11.583536017482416, 48.132975452142816, 11.583354693522633, 48.133212756163466, 11.582837930493806, 48.1338959287167, 11.582760787421511, 48.13387043198423, 11.58223900795676, 48.13370249876769, 11.582165920969775, 48.13368828297835, 11.582097362124333, 48.13367979152975, 11.582024936628583, 48.13367680373986, 11.581954829663447, 48.13367834015058, 11.581885140684644, 48.13368282295465, 11.581542050416857, 48.13372454979692, 11.580928642817758, 48.13379870429156, 11.579977125405613, 48.1339410061585, 11.579892954829766, 48.13395103815865, 11.57981249951908, 48.13395720750324, 11.579717065009268, 48.13396102733436, 11.579631324186728, 48.13396086552359, 11.579512092915762, 48.13395317046727, 11.579425537109053, 48.13394404233816, 11.579320027510441, 48.133927014867346, 11.579176615814694, 48.133896871772585, 11.578353861649685, 48.133697980287245, 11.577623233798914, 48.13352231234676, 11.576982310210557, 48.133367574678076, 11.576354788282933, 48.13321765087385, 11.576290624328792, 48.13320498040317, 11.576226617134658, 48.13319643464617, 11.576142820094624, 48.13318940078049, 11.576047013789415, 48.1331886423408, 11.575941588671824, 48.13319465366151, 11.57584967725263, 48.13320607822733, 11.57503916222268, 48.13331382076946, 11.574965425813996, 48.133318463894156, 11.574899182877859, 48.13331410028357, 11.574837952338378, 48.13330334099189, 11.57478334913325, 48.13328711080723, 11.57473768147328, 48.13326678507324, 11.574682522134342, 48.133232691956245, 11.574295325416198, 48.1329520620483, 11.573807527065597, 48.13259891937185, 11.573667162226185, 48.13249930255651, 11.573599930561027, 48.13245627091774, 11.573516496446535, 48.13240724161682, 11.573449422069464, 48.13236966273039, 11.573082919761731, 48.13217649586712, 11.572976705856066, 48.13211815971996, 11.572442782816054, 48.13183514797846, 11.572116740511879, 48.13166469511103, 11.571818991618914, 48.13151293811628, 11.571519344993918, 48.13135652140629, 11.571233960599937, 48.13120681654625, 11.570925547905768, 48.131036716078455, 11.570845757385166, 48.130995305544886, 11.570762583295515, 48.1309590239437, 11.570689610660816, 48.1309328787095, 11.570607435719028, 48.13090769071584, 11.570552384438633, 48.13089344450984, 11.570482957142833, 48.13088087870428, 11.570416798402858, 48.130873984907396, 11.570342494481878, 48.130869650612446, 11.570263035354685, 48.13087120022579, 11.570188241356403, 48.1308774817954, 11.56987732844674, 48.13094902163778, 11.56844660618066, 48.13135581477381, 11.568294991311005, 48.13140163047801, 11.568188335463983, 48.131435988683464, 11.568121720238763, 48.13146235662688, 11.568063189553367, 48.13149038835303, 11.567979820278417, 48.13153983086239, 11.567942953537099, 48.131566611535476, 11.567898389425263, 48.131600865232876, 11.567824083909482, 48.131665838816026, 11.567532809532345, 48.13193347381162, 11.567368678535587, 48.1320849827387, 11.5671221094515, 48.13230900214084, 11.56708134419999, 48.13234894459498, 11.567052722175921, 48.13238810995028, 11.567032309774735, 48.132429827194976, 11.567308694853711, 48.13265045495658, 11.567093851495938, 48.13264903125998, 11.566650667711192, 48.1333750478782, 11.566158132191385, 48.13412134621729, 11.565150694735303, 48.135715808364104, 11.56486303646947, 48.13631484091752, 11.564832594598053, 48.13637822741027, 11.564982024843998, 48.1375584187537, 11.565018845230911, 48.13785082975818, 11.56523975157038, 48.139103706022354, 11.565663229786026, 48.13964449088761, 11.561438204199254, 48.14096790955136, 11.561125752530172, 48.141049045077814, 11.56073757747673, 48.14115826971143, 11.556842778579504, 48.141996748113, 11.556162332590784, 48.14205003417064, 11.555771480889447, 48.14208245639887, 11.550510928753445, 48.14317046659895]\n",
    "poi = ee.Geometry.Polygon(sb1)\n",
    "\n",
    "# start date of range to filter for\n",
    "# clouds impact quality, so we need to chose between a variety of images\n",
    "start_date = '2022-05-01'\n",
    "\n",
    "# end date\n",
    "end_date = '2022-08-31'"
   ]
  },
  {
   "cell_type": "markdown",
   "id": "reverse-immune",
   "metadata": {
    "slideshow": {
     "slide_type": "slide"
    }
   },
   "source": [
    "## Get Landsat 8 data"
   ]
  },
  {
   "cell_type": "code",
   "execution_count": 77,
   "id": "30ff58b6-e303-4f3a-93fe-0f54993d3b04",
   "metadata": {
    "slideshow": {
     "slide_type": "-"
    }
   },
   "outputs": [],
   "source": [
    "# get the satellite data\n",
    "landsat = ee.ImageCollection(\"LANDSAT/LC08/C02/T1_L2\")\\\n",
    "            .filterBounds(poi)\\\n",
    "            .filterDate(start_date,end_date)\\\n",
    "            .filter(ee.Filter.lt('CLOUD_COVER', 0.5)) # Filter by 'CLOUD_COVER', ie. only return images with CLOUD_COVER less than 3 (3%)"
   ]
  },
  {
   "cell_type": "code",
   "execution_count": 78,
   "id": "invisible-amplifier",
   "metadata": {
    "slideshow": {
     "slide_type": "slide"
    }
   },
   "outputs": [
    {
     "name": "stdout",
     "output_type": "stream",
     "text": [
      "Total number: 1\n"
     ]
    }
   ],
   "source": [
    "# how many images did we get?\n",
    "print('Total number:', landsat.size().getInfo())"
   ]
  },
  {
   "cell_type": "code",
   "execution_count": 1,
   "id": "jewish-dakota",
   "metadata": {
    "slideshow": {
     "slide_type": "slide"
    }
   },
   "outputs": [],
   "source": [
    "# information about the first image in our collection\n",
    "landsat.first().getInfo()"
   ]
  },
  {
   "cell_type": "code",
   "execution_count": 79,
   "id": "6b7e3a7a-6050-4f47-88a7-9c9e2de96384",
   "metadata": {},
   "outputs": [
    {
     "data": {
      "text/html": [
       "<img src=\"https://earthengine.googleapis.com/v1/projects/earthengine-legacy/thumbnails/f4d8e6052733e7239f127825dd310ab3-b085866f9cfef9e4c6e883158443fb6d:getPixels\"/>"
      ],
      "text/plain": [
       "<IPython.core.display.Image object>"
      ]
     },
     "metadata": {},
     "output_type": "display_data"
    }
   ],
   "source": [
    "image = landsat.first()\n",
    "clipped_image = image.clip(poi.buffer(1000))\n",
    "parameters = {\n",
    "                'min': 7000,\n",
    "                'max': 16000,\n",
    "                'dimensions': 800, # square size in pixels\n",
    "                'bands': ['SR_B4', 'SR_B3', 'SR_B2'] # bands to display (r,g,b)\n",
    "             }\n",
    "display(Image(url = clipped_image.getThumbUrl(parameters)))"
   ]
  },
  {
   "cell_type": "code",
   "execution_count": 18,
   "id": "velvet-transport",
   "metadata": {
    "slideshow": {
     "slide_type": "slide"
    }
   },
   "outputs": [
    {
     "data": {
      "text/plain": [
       "12.36"
      ]
     },
     "execution_count": 18,
     "metadata": {},
     "output_type": "execute_result"
    }
   ],
   "source": [
    "# what about cloud cover of our first image?\n",
    "# Number is in percentage\n",
    "landsat.first().get('CLOUD_COVER').getInfo()"
   ]
  },
  {
   "cell_type": "code",
   "execution_count": 19,
   "id": "cbddaf7e",
   "metadata": {
    "slideshow": {
     "slide_type": "slide"
    }
   },
   "outputs": [
    {
     "data": {
      "text/plain": [
       "'2022-06-28'"
      ]
     },
     "execution_count": 19,
     "metadata": {},
     "output_type": "execute_result"
    }
   ],
   "source": [
    "# when was this image taken?\n",
    "landsat.first().get('DATE_ACQUIRED').getInfo()"
   ]
  },
  {
   "cell_type": "markdown",
   "id": "70a9a68e",
   "metadata": {
    "slideshow": {
     "slide_type": "slide"
    }
   },
   "source": [
    "## Bands\n",
    "\n",
    "[Landsat 8 Bands](https://www.usgs.gov/media/images/landsat-8-band-designations)"
   ]
  },
  {
   "cell_type": "code",
   "execution_count": 75,
   "id": "surprising-bleeding",
   "metadata": {
    "slideshow": {
     "slide_type": "slide"
    }
   },
   "outputs": [
    {
     "data": {
      "text/plain": [
       "['SR_B1',\n",
       " 'SR_B2',\n",
       " 'SR_B3',\n",
       " 'SR_B4',\n",
       " 'SR_B5',\n",
       " 'SR_B6',\n",
       " 'SR_B7',\n",
       " 'SR_QA_AEROSOL',\n",
       " 'ST_B10',\n",
       " 'ST_ATRAN',\n",
       " 'ST_CDIST',\n",
       " 'ST_DRAD',\n",
       " 'ST_EMIS',\n",
       " 'ST_EMSD',\n",
       " 'ST_QA',\n",
       " 'ST_TRAD',\n",
       " 'ST_URAD',\n",
       " 'QA_PIXEL',\n",
       " 'QA_RADSAT']"
      ]
     },
     "execution_count": 75,
     "metadata": {},
     "output_type": "execute_result"
    }
   ],
   "source": [
    "# what bands did we get?\n",
    "landsat.first().bandNames().getInfo()"
   ]
  },
  {
   "cell_type": "code",
   "execution_count": 43,
   "id": "inclusive-blame",
   "metadata": {
    "slideshow": {
     "slide_type": "fragment"
    }
   },
   "outputs": [],
   "source": [
    "# put the images in a list\n",
    "landsat_list = landsat.toList(landsat.size())"
   ]
  },
  {
   "cell_type": "markdown",
   "id": "compact-childhood",
   "metadata": {
    "slideshow": {
     "slide_type": "slide"
    }
   },
   "source": [
    "## Display satellite image\n",
    "\n",
    "- [What are the min/max values?](https://gis.stackexchange.com/questions/304180/what-are-the-min-and-max-values-of-map-addlayer-on-google-earth-engine) <-- Read! (Not so easy to set, roughly speaking, they control brightness)"
   ]
  },
  {
   "cell_type": "code",
   "execution_count": 44,
   "id": "recreational-feeding",
   "metadata": {},
   "outputs": [],
   "source": [
    "# set some parameters for the images\n",
    "parameters = {\n",
    "                'min': 7000,\n",
    "                'max': 16000,\n",
    "                'dimensions': 800, # square size in pixels\n",
    "                'bands': ['SR_B4', 'SR_B3', 'SR_B2'] # bands to display (r,g,b)\n",
    "             }"
   ]
  },
  {
   "cell_type": "code",
   "execution_count": 45,
   "id": "f41982f8-3f76-4bcb-ade0-3a1f35206b7e",
   "metadata": {},
   "outputs": [
    {
     "data": {
      "text/plain": [
       "1"
      ]
     },
     "execution_count": 45,
     "metadata": {},
     "output_type": "execute_result"
    }
   ],
   "source": [
    "landsat.size().getInfo()"
   ]
  },
  {
   "cell_type": "code",
   "execution_count": 46,
   "id": "subject-mongolia",
   "metadata": {
    "scrolled": true,
    "slideshow": {
     "slide_type": "slide"
    },
    "tags": []
   },
   "outputs": [
    {
     "name": "stdout",
     "output_type": "stream",
     "text": [
      "Image # 0 2022-07-18 Cloud cover: 0.3\n"
     ]
    },
    {
     "data": {
      "text/html": [
       "<img src=\"https://earthengine.googleapis.com/v1/projects/earthengine-legacy/thumbnails/b83eaa25d17afd341853b1bd60f5bf3a-4ffd27ef7302f11f09082bc6a98c2ebb:getPixels\"/>"
      ],
      "text/plain": [
       "<IPython.core.display.Image object>"
      ]
     },
     "metadata": {},
     "output_type": "display_data"
    }
   ],
   "source": [
    "# create an empty data container\n",
    "data = []\n",
    "\n",
    "# loop through each image and display it\n",
    "# `landsat.size().getInfo()` gives number of images in list\n",
    "for i in range(landsat.size().getInfo()):\n",
    "    # singe Image-object\n",
    "    image = ee.Image(landsat_list.get(i))\n",
    "    \n",
    "    # when was this image taken?\n",
    "    date = image.get('DATE_ACQUIRED').getInfo()\n",
    "    \n",
    "    # cloud cover\n",
    "    cloud = image.get('CLOUD_COVER').getInfo()\n",
    "\n",
    "    # print the image info\n",
    "    print('Image #', i, date, 'Cloud cover:', cloud)\n",
    "    \n",
    "    # display the image\n",
    "    display(Image(url = image.getThumbUrl(parameters)))\n",
    "\n",
    "    # data to list\n",
    "    this_data = [i, date, cloud]\n",
    "\n",
    "    # append the data \n",
    "    data.append(this_data)\n",
    "    \n",
    "\n",
    "# Create the pandas DataFrame\n",
    "df = pd.DataFrame(data, columns = ['Image #', 'Date', 'Cloud Cover'])"
   ]
  },
  {
   "cell_type": "code",
   "execution_count": 47,
   "id": "8acb0b6f",
   "metadata": {
    "slideshow": {
     "slide_type": "slide"
    }
   },
   "outputs": [
    {
     "data": {
      "text/html": [
       "<div>\n",
       "<style scoped>\n",
       "    .dataframe tbody tr th:only-of-type {\n",
       "        vertical-align: middle;\n",
       "    }\n",
       "\n",
       "    .dataframe tbody tr th {\n",
       "        vertical-align: top;\n",
       "    }\n",
       "\n",
       "    .dataframe thead th {\n",
       "        text-align: right;\n",
       "    }\n",
       "</style>\n",
       "<table border=\"1\" class=\"dataframe\">\n",
       "  <thead>\n",
       "    <tr style=\"text-align: right;\">\n",
       "      <th></th>\n",
       "      <th>Image #</th>\n",
       "      <th>Date</th>\n",
       "      <th>Cloud Cover</th>\n",
       "    </tr>\n",
       "  </thead>\n",
       "  <tbody>\n",
       "    <tr>\n",
       "      <th>0</th>\n",
       "      <td>0</td>\n",
       "      <td>2022-07-18</td>\n",
       "      <td>0.3</td>\n",
       "    </tr>\n",
       "  </tbody>\n",
       "</table>\n",
       "</div>"
      ],
      "text/plain": [
       "   Image #        Date  Cloud Cover\n",
       "0        0  2022-07-18          0.3"
      ]
     },
     "execution_count": 47,
     "metadata": {},
     "output_type": "execute_result"
    }
   ],
   "source": [
    "# our data in a dataframe\n",
    "df"
   ]
  },
  {
   "cell_type": "markdown",
   "id": "6f7e0233-8f25-4459-a771-d24909ebb8af",
   "metadata": {},
   "source": [
    "## Selecting images, zooming in\n",
    "\n",
    "Now that we have inspected our collection of images, we can pick and choose which ones are relevant for our study, ie. the image having the lowest cloud cover.\n",
    "\n",
    "We also want to create an ROI (region of interest) and zoom in to the area of interest. We do so by appying a 20km buffer around our POI."
   ]
  },
  {
   "cell_type": "code",
   "execution_count": 48,
   "id": "433dded0-dd18-42c6-a145-32c1f90a2038",
   "metadata": {},
   "outputs": [],
   "source": [
    "# create a list of images we want (before, during, after)\n",
    "landsat_sequence = [0]"
   ]
  },
  {
   "cell_type": "code",
   "execution_count": 52,
   "id": "774e48f6-105e-4ebd-8784-567cdf7eacf6",
   "metadata": {},
   "outputs": [],
   "source": [
    "# Define a region of interest with a buffer zone of 3 km\n",
    "# Initially, the POI is for selecting which images, the ROI controls which radius around the point is displayed, ie. the zoom\n",
    "roi = poi.buffer(10000) # meters"
   ]
  },
  {
   "cell_type": "code",
   "execution_count": 57,
   "id": "a1fa0cac-55c8-4c1a-965c-f403357cf290",
   "metadata": {},
   "outputs": [],
   "source": [
    "parameters = {\n",
    "                'min': 6000,\n",
    "                'max': 16000,\n",
    "                'dimensions': 800,\n",
    "                'bands': ['SR_B4', 'SR_B3', 'SR_B2'],\n",
    "                'region': roi\n",
    "             }"
   ]
  },
  {
   "cell_type": "code",
   "execution_count": 58,
   "id": "ab7d938a-8dd8-4f9e-91bb-991749ef22e2",
   "metadata": {},
   "outputs": [
    {
     "name": "stdout",
     "output_type": "stream",
     "text": [
      "Image # 0 2022-07-18 Cloud cover: 0.3\n"
     ]
    },
    {
     "data": {
      "text/html": [
       "<img src=\"https://earthengine.googleapis.com/v1/projects/earthengine-legacy/thumbnails/8c3d6a902361d3c1da62d36f9830bbce-a610e4ba0e325977bde7306da35fb4ab:getPixels\"/>"
      ],
      "text/plain": [
       "<IPython.core.display.Image object>"
      ]
     },
     "metadata": {},
     "output_type": "display_data"
    }
   ],
   "source": [
    "for i in landsat_sequence:\n",
    "\n",
    "    image = ee.Image(landsat_list.get(i))   \n",
    "    # when was this image taken?\n",
    "    date = image.get('DATE_ACQUIRED').getInfo()\n",
    "\n",
    "    # cloud cover\n",
    "    cloud = image.get('CLOUD_COVER').getInfo()\n",
    "    \n",
    "    print('Image #',i,date,'Cloud cover:',cloud)\n",
    "    \n",
    "    display(Image(url = image.getThumbUrl(parameters)))"
   ]
  },
  {
   "cell_type": "markdown",
   "id": "6f5096f6-31b9-4487-956b-0c4e3f86ba9a",
   "metadata": {},
   "source": [
    "## Normalized Difference Vegetation Index (NDVI)\n",
    "\n",
    "The normalized difference vegetation index (NDVI) is a simple graphical indicator that can be used to analyze remote sensing measurements, often from a space platform, assessing whether or not the target being observed contains live green vegetation.\n",
    "\n",
    "https://www.agricolus.com/en/vegetation-indices-ndvi-ndmi/"
   ]
  },
  {
   "cell_type": "markdown",
   "id": "e2dc5e0b-e5ba-45d8-a2c2-cc5b143f383e",
   "metadata": {},
   "source": [
    "### Calculating NDVI in Google Earth Engine\n",
    "\n",
    "https://developers.google.com/earth-engine/tutorials/tutorial_api_06"
   ]
  },
  {
   "cell_type": "code",
   "execution_count": 59,
   "id": "4b0d467e-6336-4685-8009-370077e33411",
   "metadata": {},
   "outputs": [],
   "source": [
    "# ndvi palette: red is low, green is high vegetation\n",
    "palette = ['red', 'yellow', 'green']\n",
    "\n",
    "ndvi_parameters = {'min': 0,\n",
    "                   'max': 0.4,\n",
    "                   'dimensions': 512,\n",
    "                   'palette': palette,\n",
    "                   'region': roi}"
   ]
  },
  {
   "cell_type": "code",
   "execution_count": 60,
   "id": "70724724-479c-4766-909d-ca155193cd73",
   "metadata": {},
   "outputs": [
    {
     "name": "stdout",
     "output_type": "stream",
     "text": [
      "Image # 0 2022-07-18\n"
     ]
    },
    {
     "data": {
      "text/html": [
       "<img src=\"https://earthengine.googleapis.com/v1/projects/earthengine-legacy/thumbnails/9785ae99d801ff9da1e7037e4b855848-16e73f770a0c84fe1c400866ded57c25:getPixels\"/>"
      ],
      "text/plain": [
       "<IPython.core.display.Image object>"
      ]
     },
     "metadata": {},
     "output_type": "display_data"
    }
   ],
   "source": [
    "for i in landsat_sequence:\n",
    "\n",
    "    image = ee.Image(landsat_list.get(i))\n",
    "\n",
    "    # when was this image taken?\n",
    "    date = image.get('DATE_ACQUIRED').getInfo()\n",
    "    \n",
    "    # print some information\n",
    "    print('Image #', i, date)\n",
    "    \n",
    "    # display the image\n",
    "\n",
    "    display(Image(url=image.normalizedDifference(['SR_B5', 'SR_B4']).getThumbUrl(ndvi_parameters)))"
   ]
  },
  {
   "cell_type": "code",
   "execution_count": 61,
   "id": "c9e2e437-166e-4412-931c-b9ddf4857b41",
   "metadata": {},
   "outputs": [],
   "source": [
    "import requests\n",
    "\n",
    "image = ee.Image(landsat_list.get(0))\n",
    "# Multi-band GeoTIFF file.\n",
    "url = image.normalizedDifference(['SR_B5', 'SR_B4']).getThumbUrl(ndvi_parameters)\n",
    "response = requests.get(url)\n",
    "with open('multi_band', 'wb') as fd:\n",
    "  fd.write(response.content) "
   ]
  },
  {
   "cell_type": "markdown",
   "id": "69c24e64-5d26-4f1e-9a99-bb97060f4f59",
   "metadata": {},
   "source": [
    "## Folium\n",
    "\n",
    "Of course, we can't end the lab without an interactive map. For this, we can use folium, which uses the open-source javascript mapping library leaflet.\n",
    "\n",
    "    https://python-visualization.github.io/folium/quickstart.html\n",
    "\n",
    "Google earth engine works with folium:\n",
    "\n",
    "    https://developers.google.com/earth-engine/tutorials/community/intro-to-python-api-guiattard?hl=en#interactive_mapping_using_folium\n",
    "\n",
    "Currently, I am not able to add the cropped image of munich to the folium map."
   ]
  },
  {
   "cell_type": "code",
   "execution_count": 62,
   "id": "6b01de07-d50d-4e68-b08c-ccd933178e7e",
   "metadata": {},
   "outputs": [],
   "source": [
    "# a simple folium map\n",
    "import folium\n",
    "\n",
    "m = folium.Map(location=[lat,lon])\n",
    "# m  # Show the map"
   ]
  },
  {
   "cell_type": "code",
   "execution_count": 63,
   "id": "a04e16dd-d1aa-4ffe-884b-9917042fee5c",
   "metadata": {},
   "outputs": [],
   "source": [
    "# Google function that allows ee layers on folium\n",
    "def add_ee_layer(self, ee_image_object, vis_params, name):\n",
    "    \"\"\"Adds a method for displaying Earth Engine image tiles to folium map.\"\"\"\n",
    "    map_id_dict = ee.Image(ee_image_object).getMapId(vis_params)\n",
    "    folium.raster_layers.TileLayer(\n",
    "        tiles=map_id_dict['tile_fetcher'].url_format,\n",
    "        attr='Map Data &copy; <a href=\"https://earthengine.google.com/\">Google Earth Engine</a>',\n",
    "        name=name,\n",
    "        overlay=True,\n",
    "        control=True\n",
    "    ).add_to(self)\n",
    "\n",
    "# Add Earth Engine drawing method to folium\n",
    "folium.Map.add_ee_layer = add_ee_layer"
   ]
  },
  {
   "cell_type": "code",
   "execution_count": 74,
   "id": "d70e2cb3-d84c-45a4-be83-627064ec5125",
   "metadata": {},
   "outputs": [
    {
     "data": {
      "text/html": [
       "<div style=\"width:100%;\"><div style=\"position:relative;width:100%;height:0;padding-bottom:60%;\"><span style=\"color:#565656\">Make this Notebook Trusted to load map: File -> Trust Notebook</span><iframe srcdoc=\"&lt;!DOCTYPE html&gt;\n",
       "&lt;html&gt;\n",
       "&lt;head&gt;\n",
       "    \n",
       "    &lt;meta http-equiv=&quot;content-type&quot; content=&quot;text/html; charset=UTF-8&quot; /&gt;\n",
       "    \n",
       "        &lt;script&gt;\n",
       "            L_NO_TOUCH = false;\n",
       "            L_DISABLE_3D = false;\n",
       "        &lt;/script&gt;\n",
       "    \n",
       "    &lt;style&gt;html, body {width: 100%;height: 100%;margin: 0;padding: 0;}&lt;/style&gt;\n",
       "    &lt;style&gt;#map {position:absolute;top:0;bottom:0;right:0;left:0;}&lt;/style&gt;\n",
       "    &lt;script src=&quot;https://cdn.jsdelivr.net/npm/leaflet@1.9.3/dist/leaflet.js&quot;&gt;&lt;/script&gt;\n",
       "    &lt;script src=&quot;https://code.jquery.com/jquery-1.12.4.min.js&quot;&gt;&lt;/script&gt;\n",
       "    &lt;script src=&quot;https://cdn.jsdelivr.net/npm/bootstrap@5.2.2/dist/js/bootstrap.bundle.min.js&quot;&gt;&lt;/script&gt;\n",
       "    &lt;script src=&quot;https://cdnjs.cloudflare.com/ajax/libs/Leaflet.awesome-markers/2.0.2/leaflet.awesome-markers.js&quot;&gt;&lt;/script&gt;\n",
       "    &lt;link rel=&quot;stylesheet&quot; href=&quot;https://cdn.jsdelivr.net/npm/leaflet@1.9.3/dist/leaflet.css&quot;/&gt;\n",
       "    &lt;link rel=&quot;stylesheet&quot; href=&quot;https://cdn.jsdelivr.net/npm/bootstrap@5.2.2/dist/css/bootstrap.min.css&quot;/&gt;\n",
       "    &lt;link rel=&quot;stylesheet&quot; href=&quot;https://netdna.bootstrapcdn.com/bootstrap/3.0.0/css/bootstrap.min.css&quot;/&gt;\n",
       "    &lt;link rel=&quot;stylesheet&quot; href=&quot;https://cdn.jsdelivr.net/npm/@fortawesome/fontawesome-free@6.2.0/css/all.min.css&quot;/&gt;\n",
       "    &lt;link rel=&quot;stylesheet&quot; href=&quot;https://cdnjs.cloudflare.com/ajax/libs/Leaflet.awesome-markers/2.0.2/leaflet.awesome-markers.css&quot;/&gt;\n",
       "    &lt;link rel=&quot;stylesheet&quot; href=&quot;https://cdn.jsdelivr.net/gh/python-visualization/folium/folium/templates/leaflet.awesome.rotate.min.css&quot;/&gt;\n",
       "    \n",
       "            &lt;meta name=&quot;viewport&quot; content=&quot;width=device-width,\n",
       "                initial-scale=1.0, maximum-scale=1.0, user-scalable=no&quot; /&gt;\n",
       "            &lt;style&gt;\n",
       "                #map_698bd83561f5c347d03d31a04cba6525 {\n",
       "                    position: relative;\n",
       "                    width: 100.0%;\n",
       "                    height: 100.0%;\n",
       "                    left: 0.0%;\n",
       "                    top: 0.0%;\n",
       "                }\n",
       "                .leaflet-container { font-size: 1rem; }\n",
       "            &lt;/style&gt;\n",
       "        \n",
       "&lt;/head&gt;\n",
       "&lt;body&gt;\n",
       "    \n",
       "    \n",
       "            &lt;div class=&quot;folium-map&quot; id=&quot;map_698bd83561f5c347d03d31a04cba6525&quot; &gt;&lt;/div&gt;\n",
       "        \n",
       "&lt;/body&gt;\n",
       "&lt;script&gt;\n",
       "    \n",
       "    \n",
       "            var map_698bd83561f5c347d03d31a04cba6525 = L.map(\n",
       "                &quot;map_698bd83561f5c347d03d31a04cba6525&quot;,\n",
       "                {\n",
       "                    center: [48.13, 11.56],\n",
       "                    crs: L.CRS.EPSG3857,\n",
       "                    zoom: 10,\n",
       "                    zoomControl: true,\n",
       "                    preferCanvas: false,\n",
       "                }\n",
       "            );\n",
       "\n",
       "            \n",
       "\n",
       "        \n",
       "    \n",
       "            var tile_layer_1756a16a784f559c576a607771de97af = L.tileLayer(\n",
       "                &quot;https://{s}.tile.openstreetmap.org/{z}/{x}/{y}.png&quot;,\n",
       "                {&quot;attribution&quot;: &quot;Data by \\u0026copy; \\u003ca target=\\&quot;_blank\\&quot; href=\\&quot;http://openstreetmap.org\\&quot;\\u003eOpenStreetMap\\u003c/a\\u003e, under \\u003ca target=\\&quot;_blank\\&quot; href=\\&quot;http://www.openstreetmap.org/copyright\\&quot;\\u003eODbL\\u003c/a\\u003e.&quot;, &quot;detectRetina&quot;: false, &quot;maxNativeZoom&quot;: 18, &quot;maxZoom&quot;: 18, &quot;minZoom&quot;: 0, &quot;noWrap&quot;: false, &quot;opacity&quot;: 1, &quot;subdomains&quot;: &quot;abc&quot;, &quot;tms&quot;: false}\n",
       "            ).addTo(map_698bd83561f5c347d03d31a04cba6525);\n",
       "        \n",
       "    \n",
       "            var tile_layer_12b09a99066deeedc993757ef1f56b3f = L.tileLayer(\n",
       "                &quot;https://earthengine.googleapis.com/v1/projects/earthengine-legacy/maps/93d81d3a995bb9d48257886f30a71110-90920e686c7c2bd83d809bfd60227a66/tiles/{z}/{x}/{y}&quot;,\n",
       "                {&quot;attribution&quot;: &quot;Map Data \\u0026copy; \\u003ca href=\\&quot;https://earthengine.google.com/\\&quot;\\u003eGoogle Earth Engine\\u003c/a\\u003e&quot;, &quot;detectRetina&quot;: false, &quot;maxNativeZoom&quot;: 18, &quot;maxZoom&quot;: 18, &quot;minZoom&quot;: 0, &quot;noWrap&quot;: false, &quot;opacity&quot;: 1, &quot;subdomains&quot;: &quot;abc&quot;, &quot;tms&quot;: false}\n",
       "            ).addTo(map_698bd83561f5c347d03d31a04cba6525);\n",
       "        \n",
       "    \n",
       "            var layer_control_b3a5ee3badcc5348959bb00ab7acaad0 = {\n",
       "                base_layers : {\n",
       "                    &quot;openstreetmap&quot; : tile_layer_1756a16a784f559c576a607771de97af,\n",
       "                },\n",
       "                overlays :  {\n",
       "                    &quot;2022-07-18&quot; : tile_layer_12b09a99066deeedc993757ef1f56b3f,\n",
       "                },\n",
       "            };\n",
       "            L.control.layers(\n",
       "                layer_control_b3a5ee3badcc5348959bb00ab7acaad0.base_layers,\n",
       "                layer_control_b3a5ee3badcc5348959bb00ab7acaad0.overlays,\n",
       "                {&quot;autoZIndex&quot;: true, &quot;collapsed&quot;: false, &quot;position&quot;: &quot;topright&quot;}\n",
       "            ).addTo(map_698bd83561f5c347d03d31a04cba6525);\n",
       "        \n",
       "&lt;/script&gt;\n",
       "&lt;/html&gt;\" style=\"position:absolute;width:100%;height:100%;left:0;top:0;border:none !important;\" allowfullscreen webkitallowfullscreen mozallowfullscreen></iframe></div></div>"
      ],
      "text/plain": [
       "<folium.folium.Map at 0x7f0e28f29fa0>"
      ]
     },
     "metadata": {},
     "output_type": "display_data"
    }
   ],
   "source": [
    "# Create a map\n",
    "my_map = folium.Map(location=[lat, lon], zoom_start=10)\n",
    "\n",
    "# Add a layer for each satellite image of interest (before, during and after)\n",
    "for i in landsat_sequence:\n",
    "\n",
    "    # when was this image taken?\n",
    "    date = ee.Image(landsat_list.get(i)).get('DATE_ACQUIRED').getInfo()\n",
    "\n",
    "    my_map.add_ee_layer(ee.Image(landsat_list.get(i)).normalizedDifference(['SR_B5', 'SR_B4']), \n",
    "                        ndvi_parameters, \n",
    "                        name=date)\n",
    "    \n",
    "# Add a layer control panel to the map\n",
    "folium.LayerControl(collapsed = False).add_to(my_map)\n",
    "\n",
    "# Display the map.\n",
    "display(my_map)\n",
    "\n",
    "# TODO Add cropped images of Munich to folium"
   ]
  },
  {
   "cell_type": "markdown",
   "id": "surgical-schema",
   "metadata": {
    "slideshow": {
     "slide_type": "slide"
    }
   },
   "source": [
    "## Save the folium map as an html file"
   ]
  },
  {
   "cell_type": "code",
   "execution_count": 90,
   "id": "similar-effects",
   "metadata": {},
   "outputs": [],
   "source": [
    "my_map.save('camp.html')"
   ]
  },
  {
   "cell_type": "markdown",
   "id": "specialized-dallas",
   "metadata": {
    "slideshow": {
     "slide_type": "slide"
    }
   },
   "source": [
    "# Resources\n",
    "\n",
    "- [Google's Python Tutorial](https://developers.google.com/earth-engine/tutorials/community/intro-to-python-api-guiattard)\n",
    "- [Earth Lab](https://www.earthdatascience.org/courses/use-data-open-source-python/multispectral-remote-sensing/landsat-in-Python/)\n",
    "    "
   ]
  }
 ],
 "metadata": {
  "celltoolbar": "Slideshow",
  "kernelspec": {
   "display_name": "Python 3 (ipykernel)",
   "language": "python",
   "name": "python3"
  },
  "language_info": {
   "codemirror_mode": {
    "name": "ipython",
    "version": 3
   },
   "file_extension": ".py",
   "mimetype": "text/x-python",
   "name": "python",
   "nbconvert_exporter": "python",
   "pygments_lexer": "ipython3",
   "version": "3.9.9"
  },
  "toc": {
   "base_numbering": 1,
   "nav_menu": {},
   "number_sections": true,
   "sideBar": true,
   "skip_h1_title": false,
   "title_cell": "Table of Contents",
   "title_sidebar": "Contents",
   "toc_cell": false,
   "toc_position": {
    "height": "calc(100% - 180px)",
    "left": "10px",
    "top": "150px",
    "width": "271.188px"
   },
   "toc_section_display": true,
   "toc_window_display": false
  }
 },
 "nbformat": 4,
 "nbformat_minor": 5
}
